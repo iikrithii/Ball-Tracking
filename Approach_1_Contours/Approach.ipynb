{
 "cells": [
  {
   "cell_type": "code",
   "execution_count": 1,
   "metadata": {},
   "outputs": [],
   "source": [
    "import cv2\n",
    "import numpy as np\n"
   ]
  },
  {
   "cell_type": "code",
   "execution_count": 2,
   "metadata": {},
   "outputs": [],
   "source": [
    "\n",
    "video_path = 'input_video.mp4'\n",
    "cap = cv2.VideoCapture(video_path)\n",
    "\n",
    "fps = int(cap.get(cv2.CAP_PROP_FPS))\n",
    "width = int(cap.get(cv2.CAP_PROP_FRAME_WIDTH))\n",
    "height = int(cap.get(cv2.CAP_PROP_FRAME_HEIGHT))\n",
    "total_frames = int(cap.get(cv2.CAP_PROP_FRAME_COUNT))\n",
    "\n",
    "fourcc = cv2.VideoWriter_fourcc(*'XVID')\n",
    "out = cv2.VideoWriter('output.avi', fourcc, fps, (width, height))\n",
    "\n",
    "# Rotated image\n",
    "def rotate_frame(frame):\n",
    "    return cv2.rotate(frame, cv2.ROTATE_180)\n",
    "\n"
   ]
  },
  {
   "cell_type": "code",
   "execution_count": 3,
   "metadata": {},
   "outputs": [],
   "source": [
    "# Quadrant coordinates (occupies one half of the frame)\n",
    "quadrant_width = width // 4 +50\n",
    "quadrant_height = height // 2\n",
    "\n",
    "quadrants = {\n",
    "    1: (150, 150+quadrant_width, 50, quadrant_height),\n",
    "    2: (150+quadrant_width, 100+ 2 * quadrant_width, 50, quadrant_height),\n",
    "    4: (150, 150+ quadrant_width, quadrant_height, 2 * quadrant_height),\n",
    "    3: (150+ quadrant_width, 100+ 2 * quadrant_width, quadrant_height, 2 * quadrant_height)\n",
    "}\n",
    "\n"
   ]
  },
  {
   "cell_type": "code",
   "execution_count": 120,
   "metadata": {},
   "outputs": [
    {
     "name": "stdout",
     "output_type": "stream",
     "text": [
      "ret: True\n"
     ]
    }
   ],
   "source": [
    "def draw_quadrants(frame):\n",
    "    for quadrant, (x1, x2, y1, y2) in quadrants.items():\n",
    "        cv2.rectangle(frame, (x1, y1), (x2, y2), (0, 0, 255), 2)\n",
    "        cv2.putText(frame, str(quadrant), ((x1 + x2) // 2, (y1 + y2) // 2), cv2.FONT_HERSHEY_SIMPLEX, 1, (0, 0, 255), 2)\n",
    "    return frame\n",
    "\n",
    "# Read the first frame and process it\n",
    "ret, frame = cap.read()\n",
    "print(f\"ret: {ret}\")\n",
    "if ret:\n",
    "\n",
    "    frame = rotate_frame(frame)\n",
    "    \n",
    "\n",
    "    frame_with_quadrants = draw_quadrants(frame)\n",
    "    \n",
    "    cv2.imshow('Frame with Quadrants', frame_with_quadrants)\n",
    "    cv2.waitKey(0)  \n",
    "\n",
    "cap.release()\n",
    "cv2.destroyAllWindows()"
   ]
  },
  {
   "cell_type": "code",
   "execution_count": 4,
   "metadata": {},
   "outputs": [],
   "source": [
    "# Define color ranges for the balls (HSV)\n",
    "color_ranges = {\n",
    "    'green': ([40, 40, 40], [70, 255, 255]) ,\n",
    "    'white': ([0, 0, 200], [180, 30, 255]),\n",
    "    'orange': ([5, 100, 100], [15, 255, 255]),\n",
    "    'yellow': ([20, 100, 100], [30, 255, 255])\n",
    "}\n"
   ]
  },
  {
   "cell_type": "code",
   "execution_count": 5,
   "metadata": {},
   "outputs": [],
   "source": [
    "def detect_balls(frame):\n",
    "    hsv = cv2.cvtColor(frame, cv2.COLOR_BGR2HSV)\n",
    "    balls = {}\n",
    "    \n",
    "    for color, (lower, upper) in color_ranges.items():\n",
    "        mask = cv2.inRange(hsv, np.array(lower), np.array(upper))\n",
    "        contours, _ = cv2.findContours(mask, cv2.RETR_TREE, cv2.CHAIN_APPROX_SIMPLE)\n",
    "        \n",
    "        for contour in contours:\n",
    "            if cv2.contourArea(contour) > 500: \n",
    "                x, y, w, h = cv2.boundingRect(contour)\n",
    "                balls[color] = (x + w // 2, y + h // 2) \n",
    "    \n",
    "    return balls"
   ]
  },
  {
   "cell_type": "code",
   "execution_count": 168,
   "metadata": {},
   "outputs": [],
   "source": [
    "\n",
    "frame_number = np.random.randint(1, total_frames)  \n",
    "\n",
    "\n",
    "cap.set(cv2.CAP_PROP_POS_FRAMES, frame_number)\n",
    "\n",
    "\n",
    "ret, frame = cap.read()\n",
    "\n",
    "frame = rotate_frame(frame)\n",
    "\n",
    "\n",
    "balls_detected = detect_balls(frame)\n",
    "\n",
    "\n",
    "for color, pos in balls_detected.items():\n",
    "    cv2.circle(frame, pos, 10, (0, 255, 0), -1) \n",
    "    cv2.putText(frame, color, (pos[0] - 10, pos[1] - 10), cv2.FONT_HERSHEY_SIMPLEX, 0.5, (0, 0, 0), 2)\n",
    "\n",
    "\n",
    "cv2.imshow('Detected Balls', frame)\n",
    "cv2.waitKey(0)\n",
    "cv2.destroyAllWindows()"
   ]
  },
  {
   "cell_type": "code",
   "execution_count": 6,
   "metadata": {},
   "outputs": [],
   "source": [
    "from collections import deque\n",
    "import time\n",
    "event_log = []\n",
    "previous_positions = {color: None for color in color_ranges.keys()}\n",
    "annotation_queue = deque(maxlen=50)  \n",
    "\n",
    "while cap.isOpened():\n",
    "    ret, frame = cap.read()\n",
    "    if not ret:\n",
    "        break\n",
    "    \n",
    "\n",
    "    frame = rotate_frame(frame)\n",
    "    \n",
    "    # Detect balls\n",
    "    balls = detect_balls(frame)\n",
    "    \n",
    "    # Track movements and log events\n",
    "    for color, pos in balls.items():\n",
    "        prev_pos = previous_positions[color]\n",
    "        for quadrant, (x1, x2, y1, y2) in quadrants.items():\n",
    "            if x1 < pos[0] < x2 and y1 < pos[1] < y2:\n",
    "                if prev_pos is None or not (x1 < prev_pos[0] < x2 and y1 < prev_pos[1] < y2):\n",
    "                    \n",
    "                    timestamp = cap.get(cv2.CAP_PROP_POS_MSEC) / 1000\n",
    "                    event_log.append((timestamp, quadrant, color, 'Entry'))\n",
    "                    annotation_queue.append((time.time(), timestamp, quadrant, color, 'Entry'))\n",
    "                previous_positions[color] = pos\n",
    "            elif prev_pos is not None and x1 < prev_pos[0] < x2 and y1 < prev_pos[1] < y2:\n",
    "              \n",
    "                timestamp = cap.get(cv2.CAP_PROP_POS_MSEC) / 1000\n",
    "                event_log.append((timestamp, quadrant, color, 'Exit'))\n",
    "                annotation_queue.append((time.time(), timestamp, quadrant, color, 'Exit'))\n",
    "                previous_positions[color] = None\n",
    "    \n",
    "    # Annotate \n",
    "    for color, pos in balls.items():\n",
    "        cv2.circle(frame, pos, 10, (255, 0, 0), -1)\n",
    "        cv2.putText(frame, color, (pos[0] - 10, pos[1] - 10), cv2.FONT_HERSHEY_SIMPLEX, 0.5, (255, 255, 255), 2)\n",
    "    \n",
    "\n",
    "    current_time = time.time()\n",
    "    annotation_queue = deque([(t, ts, q, c, e) for t, ts, q, c, e in annotation_queue if current_time - t < 1])  # Keep annotations for 1 second\n",
    "\n",
    "    for t, timestamp, quadrant, color, event in annotation_queue:\n",
    "        x1, x2, y1, y2 = quadrants[quadrant]\n",
    "        cv2.putText(frame, f\"{color} {event} at {timestamp:.2f}s\", ((x1 + x2) // 2, y2 - 10), cv2.FONT_HERSHEY_SIMPLEX, 0.5, (0, 0, 0), 2)\n",
    "\n",
    "    # Write the frame to the output video\n",
    "    out.write(frame)\n",
    "\n",
    "cap.release()\n",
    "out.release()\n",
    "cv2.destroyAllWindows()\n",
    "\n",
    "# Save event log \n",
    "with open('event_log.txt', 'w') as f:\n",
    "    f.write(\"Time, Quadrant, Color, Event Type\\n\")\n",
    "    for event in event_log:\n",
    "        f.write(f\"{event[0]}, {event[1]}, {event[2]}, {event[3]}\\n\")"
   ]
  }
 ],
 "metadata": {
  "kernelspec": {
   "display_name": "env",
   "language": "python",
   "name": "python3"
  },
  "language_info": {
   "codemirror_mode": {
    "name": "ipython",
    "version": 3
   },
   "file_extension": ".py",
   "mimetype": "text/x-python",
   "name": "python",
   "nbconvert_exporter": "python",
   "pygments_lexer": "ipython3",
   "version": "3.10.13"
  }
 },
 "nbformat": 4,
 "nbformat_minor": 2
}
